{
 "cells": [
  {
   "cell_type": "markdown",
   "metadata": {},
   "source": [
    "# import relavent libraries"
   ]
  },
  {
   "cell_type": "code",
   "execution_count": 1,
   "metadata": {},
   "outputs": [],
   "source": [
    "import numpy as np\n",
    "import matplotlib.pyplot as plt\n",
    "from mpl_toolkits.mplot3d import Axes3D"
   ]
  },
  {
   "cell_type": "markdown",
   "metadata": {},
   "source": [
    "# Generate random input data to train on"
   ]
  },
  {
   "cell_type": "code",
   "execution_count": 3,
   "metadata": {},
   "outputs": [
    {
     "data": {
      "text/plain": [
       "(1000, 2)"
      ]
     },
     "execution_count": 3,
     "metadata": {},
     "output_type": "execute_result"
    }
   ],
   "source": [
    "observations = 1000\n",
    "\n",
    "xs=np.random.uniform(low=-10,high=10,size=(observations,1))\n",
    "zs=np.random.uniform(-10,10,(observations,1))\n",
    "\n",
    "inputs=np.column_stack((xs,zs))\n",
    "\n",
    "inputs.shape"
   ]
  },
  {
   "cell_type": "code",
   "execution_count": 11,
   "metadata": {},
   "outputs": [
    {
     "data": {
      "text/plain": [
       "(1000, 1)"
      ]
     },
     "execution_count": 11,
     "metadata": {},
     "output_type": "execute_result"
    }
   ],
   "source": [
    "xs.shape"
   ]
  },
  {
   "cell_type": "markdown",
   "metadata": {},
   "source": [
    "# Creating targets we will aim at"
   ]
  },
  {
   "cell_type": "code",
   "execution_count": 10,
   "metadata": {},
   "outputs": [
    {
     "data": {
      "text/plain": [
       "(1000,)"
      ]
     },
     "execution_count": 10,
     "metadata": {},
     "output_type": "execute_result"
    }
   ],
   "source": [
    "# target=f(x,z)= 2x-3z+5+noise   # if we do regression we should get this finally\n",
    "noise = np.random.uniform(-1,1,(observations,1))\n",
    "\n",
    "targets=2*xs-3*zs+5+noise\n",
    "\n",
    "targets.shape"
   ]
  },
  {
   "cell_type": "markdown",
   "metadata": {},
   "source": [
    "# Plot the training data"
   ]
  },
  {
   "cell_type": "code",
   "execution_count": 13,
   "metadata": {},
   "outputs": [
    {
     "data": {
      "image/png": "[encoded data removed]",
      "text/plain": [
       "<Figure size 432x288 with 1 Axes>"
      ]
     },
     "metadata": {
      "needs_background": "light"
     },
     "output_type": "display_data"
    }
   ],
   "source": [
    "targets=targets.reshape(observations,)\n",
    "xs=xs.reshape(observations,)\n",
    "zs=zs.reshape(observations,)\n",
    "\n",
    "fig=plt.figure()\n",
    "\n",
    "ax=fig.add_subplot(111, projection='3d')\n",
    "\n",
    "ax.plot(xs,zs,targets)\n",
    "\n",
    "ax.set_xlabel(\"xs\")\n",
    "ax.set_ylabel(\"zs\")\n",
    "ax.set_zlabel(\"Targets\")\n",
    "\n",
    "ax.view_init(azim=100)\n",
    "\n",
    "plt.show()"
   ]
  },
  {
   "cell_type": "code",
   "execution_count": 14,
   "metadata": {},
   "outputs": [],
   "source": [
    "targets=targets.reshape(observations,1)\n",
    "xs=xs.reshape(observations,1)\n",
    "zs=zs.reshape(observations,1)"
   ]
  },
  {
   "cell_type": "markdown",
   "metadata": {},
   "source": [
    "# Initialize variables "
   ]
  },
  {
   "cell_type": "code",
   "execution_count": 15,
   "metadata": {},
   "outputs": [
    {
     "name": "stdout",
     "output_type": "stream",
     "text": [
      "[[ 0.04613239]\n",
      " [-0.0097728 ]]\n",
      "[-0.04091338]\n"
     ]
    }
   ],
   "source": [
    "init_range=0.1\n",
    "\n",
    "weights=np.random.uniform(-init_range,init_range,size=(2,1)) # two variables so size is 2,1\n",
    "bias=np.random.uniform(-init_range,init_range,size=1)\n",
    "print(weights)\n",
    "print(bias)"
   ]
  },
  {
   "cell_type": "markdown",
   "metadata": {},
   "source": [
    "# Set a learning rate"
   ]
  },
  {
   "cell_type": "code",
   "execution_count": 16,
   "metadata": {},
   "outputs": [],
   "source": [
    "learning_rate=0.02"
   ]
  },
  {
   "cell_type": "markdown",
   "metadata": {},
   "source": [
    "# Train the model"
   ]
  },
  {
   "cell_type": "code",
   "execution_count": 20,
   "metadata": {},
   "outputs": [
    {
     "name": "stdout",
     "output_type": "stream",
     "text": [
      "0.3922209966234616\n",
      "0.3834300133903572\n",
      "0.37498613913628354\n",
      "0.36687566838141794\n",
      "0.35908543680214\n",
      "0.35160279986366605\n",
      "0.34441561229636003\n",
      "0.3375122083824224\n",
      "0.3308813830209481\n",
      "0.32451237354062346\n",
      "0.31839484223054865\n",
      "0.31251885956081527\n",
      "0.3068748880656248\n",
      "0.3014537668627648\n",
      "0.29624669678433924\n",
      "0.291245226094598\n",
      "0.28644123677170036\n",
      "0.2818269313311313\n",
      "0.2773948201693979\n",
      "0.2731377094074506\n",
      "0.2690486892141024\n",
      "0.26512112259049864\n",
      "0.2613486345974242\n",
      "0.25772510200796683\n",
      "0.2542446433687453\n",
      "0.25090160945355966\n",
      "0.24769057409398465\n",
      "0.24460632537200624\n",
      "0.2416438571604187\n",
      "0.23879836099724322\n",
      "0.2360652182809858\n",
      "0.23343999277405844\n",
      "0.23091842340220403\n",
      "0.2284964173382316\n",
      "0.22617004335883675\n",
      "0.2239355254637296\n",
      "0.22178923674670528\n",
      "0.21972769350871527\n",
      "0.2177475496033817\n",
      "0.21584559100577608\n",
      "0.21401873059565044\n",
      "0.21226400314664817\n",
      "0.21057856051336582\n",
      "0.20895966700845056\n",
      "0.20740469496223352\n",
      "0.20591112045768753\n",
      "0.20447651923378932\n",
      "0.20309856275063762\n",
      "0.2017750144099352\n",
      "0.200503725924707\n",
      "0.1992826338323578\n",
      "0.19810975614540985\n",
      "0.19698318913448645\n",
      "0.19590110423831664\n",
      "0.19486174509574847\n",
      "0.1938634246949518\n",
      "0.19290452263518487\n",
      "0.1919834824966762\n",
      "0.19109880931435969\n",
      "0.1902490671513554\n",
      "0.18943287676826254\n",
      "0.18864891338447756\n",
      "0.18789590452790833\n",
      "0.18717262796959008\n",
      "0.186477909739852\n",
      "0.18581062222281616\n",
      "0.1851696823261339\n",
      "0.18455404972298836\n",
      "0.1839627251635131\n",
      "0.18339474885288257\n",
      "0.18284919889344245\n",
      "0.18232518978835413\n",
      "0.1818218710043195\n",
      "0.18133842559105803\n",
      "0.18087406885529306\n",
      "0.18042804708709492\n",
      "0.17999963633651322\n",
      "0.17958814123851505\n",
      "0.17919289388431936\n",
      "0.17881325273729534\n",
      "0.17844860159166803\n",
      "0.1780983485723371\n",
      "0.17776192517418965\n",
      "0.17743878533934293\n",
      "0.17712840457082393\n",
      "0.17683027908124416\n",
      "0.17654392497508842\n",
      "0.1762688774632912\n",
      "0.17600469010882486\n",
      "0.17575093410207573\n",
      "0.17550719756483205\n",
      "0.17527308488175247\n",
      "0.17504821605823298\n",
      "0.1748322261036271\n",
      "0.17462476443881964\n",
      "0.17442549432719198\n",
      "0.17423409232805703\n",
      "0.17405024777167252\n",
      "0.1738736622549852\n",
      "0.173704049157285\n"
     ]
    }
   ],
   "source": [
    "for i in range(100):\n",
    "    outputs=np.dot(inputs,weights)+bias\n",
    "    deltas=outputs-targets                               # i have run the cell 2 times i.e., i have iterated 200 times\n",
    "    \n",
    "    loss=np.sum(deltas**2)/2/observations\n",
    "    \n",
    "    print(loss)\n",
    "    deltas_scaled=deltas/observations\n",
    "    \n",
    "    weights=weights - learning_rate*np.dot(inputs.T,deltas_scaled)\n",
    "    bias=bias - learning_rate*np.sum(deltas_scaled)"
   ]
  },
  {
   "cell_type": "markdown",
   "metadata": {},
   "source": [
    "### print weights and bias to see if it had worked correctly"
   ]
  },
  {
   "cell_type": "code",
   "execution_count": 21,
   "metadata": {},
   "outputs": [
    {
     "name": "stdout",
     "output_type": "stream",
     "text": [
      "[[ 2.00323368]\n",
      " [-2.99762913]]\n",
      "[4.91137548]\n"
     ]
    }
   ],
   "source": [
    "print(weights)\n",
    "print(bias)"
   ]
  },
  {
   "cell_type": "markdown",
   "metadata": {},
   "source": [
    "# plot outputs and target"
   ]
  },
  {
   "cell_type": "raw",
   "metadata": {},
   "source": [
    "if we get a 45 degree line we can say outputs=targets and our model is super"
   ]
  },
  {
   "cell_type": "code",
   "execution_count": 22,
   "metadata": {},
   "outputs": [
    {
     "data": {
      "image/png": "[encoded data removed]",
      "text/plain": [
       "<Figure size 432x288 with 1 Axes>"
      ]
     },
     "metadata": {
      "needs_background": "light"
     },
     "output_type": "display_data"
    }
   ],
   "source": [
    "plt.plot(outputs,targets)\n",
    "plt.show()"
   ]
  },
  {
   "cell_type": "code",
   "execution_count": null,
   "metadata": {},
   "outputs": [],
   "source": []
  }
 ],
 "metadata": {
  "kernelspec": {
   "display_name": "Python 3",
   "language": "python",
   "name": "python3"
  },
  "language_info": {
   "codemirror_mode": {
    "name": "ipython",
    "version": 3
   },
   "file_extension": ".py",
   "mimetype": "text/x-python",
   "name": "python",
   "nbconvert_exporter": "python",
   "pygments_lexer": "ipython3",
   "version": "3.8.5"
  }
 },
 "nbformat": 4,
 "nbformat_minor": 4
}
